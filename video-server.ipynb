{
 "cells": [
  {
   "cell_type": "code",
   "execution_count": null,
   "metadata": {},
   "outputs": [],
   "source": [
    "import cv2, socket, numpy, pickle"
   ]
  },
  {
   "cell_type": "code",
   "execution_count": null,
   "metadata": {},
   "outputs": [],
   "source": [
    "s=socket.socket(socket.AF_INET , socket.SOCK_DGRAM)\n",
    "ip=\"192.168.187.71\"\n",
    "port=307\n",
    "s.bind((ip,port))"
   ]
  },
  {
   "cell_type": "code",
   "execution_count": null,
   "metadata": {},
   "outputs": [],
   "source": [
    "while True:\n",
    "    x=s.recvfrom(100000000)\n",
    "    clientip = x[1][0]\n",
    "    data=x[0]\n",
    "    print(data)\n",
    "    data=pickle.loads(data)\n",
    "    print(type(data))\n",
    "    data = cv2.imdecode(data, cv2.IMREAD_COLOR)\n",
    "    cv2.imshow('my pic', data) #to open image\n",
    "    if cv2.waitKey(10) == 13:\n",
    "        break\n",
    "cv2.destroyAllWindows()"
   ]
  }
 ],
 "metadata": {
  "kernelspec": {
   "display_name": "Python 3",
   "language": "python",
   "name": "python3"
  },
  "language_info": {
   "codemirror_mode": {
    "name": "ipython",
    "version": 3
   },
   "file_extension": ".py",
   "mimetype": "text/x-python",
   "name": "python",
   "nbconvert_exporter": "python",
   "pygments_lexer": "ipython3",
   "version": "3.7.5"
  }
 },
 "nbformat": 4,
 "nbformat_minor": 4
}
